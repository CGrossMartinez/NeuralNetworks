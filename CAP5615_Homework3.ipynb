{
  "nbformat": 4,
  "nbformat_minor": 0,
  "metadata": {
    "colab": {
      "name": "CAP5615-Homework3.ipynb",
      "provenance": []
    },
    "kernelspec": {
      "name": "python3",
      "display_name": "Python 3"
    },
    "language_info": {
      "name": "python"
    }
  },
  "cells": [
    {
      "cell_type": "markdown",
      "metadata": {
        "id": "gIr8p2H_pEAW"
      },
      "source": [
        "#intro toNeural Networks\n",
        "#Carlos Gross-Martinez\n",
        "#Z23226341\n",
        "#Homework 3\n",
        "#Answer Question 11"
      ]
    },
    {
      "cell_type": "code",
      "metadata": {
        "colab": {
          "base_uri": "https://localhost:8080/"
        },
        "id": "PZ1fu-uuo8B6",
        "outputId": "5c806e4e-d877-43ae-b516-2a5bc53cf5f3"
      },
      "source": [
        "#import libraries\n",
        "import numpy as np\n",
        "import pandas as pd\n",
        "from sklearn.utils import shuffle\n",
        "from matplotlib import pyplot as plt\n",
        "from sklearn.model_selection import train_test_split \n",
        "\n",
        "#mounting google drive\n",
        "from google.colab import drive\n",
        "drive.mount('/content/drive')"
      ],
      "execution_count": 25,
      "outputs": [
        {
          "output_type": "stream",
          "text": [
            "Drive already mounted at /content/drive; to attempt to forcibly remount, call drive.mount(\"/content/drive\", force_remount=True).\n"
          ],
          "name": "stdout"
        }
      ]
    },
    {
      "cell_type": "code",
      "metadata": {
        "colab": {
          "base_uri": "https://localhost:8080/",
          "height": 216
        },
        "id": "dFiu_x3punqz",
        "outputId": "fbb90596-0319-4b2a-a274-92b54b3d8c7f"
      },
      "source": [
        "#import class 1 data set into pandas dataframe\n",
        "class1 = pd.read_csv(\"/content/drive/MyDrive/Neural Networks/Datasets/Class1.txt\")\n",
        "print(class1.shape)\n",
        "class1.head()"
      ],
      "execution_count": 26,
      "outputs": [
        {
          "output_type": "stream",
          "text": [
            "(100, 2)\n"
          ],
          "name": "stdout"
        },
        {
          "output_type": "execute_result",
          "data": {
            "text/html": [
              "<div>\n",
              "<style scoped>\n",
              "    .dataframe tbody tr th:only-of-type {\n",
              "        vertical-align: middle;\n",
              "    }\n",
              "\n",
              "    .dataframe tbody tr th {\n",
              "        vertical-align: top;\n",
              "    }\n",
              "\n",
              "    .dataframe thead th {\n",
              "        text-align: right;\n",
              "    }\n",
              "</style>\n",
              "<table border=\"1\" class=\"dataframe\">\n",
              "  <thead>\n",
              "    <tr style=\"text-align: right;\">\n",
              "      <th></th>\n",
              "      <th>weight</th>\n",
              "      <th>height</th>\n",
              "    </tr>\n",
              "  </thead>\n",
              "  <tbody>\n",
              "    <tr>\n",
              "      <th>0</th>\n",
              "      <td>0.132</td>\n",
              "      <td>0.757</td>\n",
              "    </tr>\n",
              "    <tr>\n",
              "      <th>1</th>\n",
              "      <td>0.722</td>\n",
              "      <td>0.888</td>\n",
              "    </tr>\n",
              "    <tr>\n",
              "      <th>2</th>\n",
              "      <td>0.095</td>\n",
              "      <td>0.804</td>\n",
              "    </tr>\n",
              "    <tr>\n",
              "      <th>3</th>\n",
              "      <td>0.633</td>\n",
              "      <td>0.530</td>\n",
              "    </tr>\n",
              "    <tr>\n",
              "      <th>4</th>\n",
              "      <td>0.472</td>\n",
              "      <td>0.701</td>\n",
              "    </tr>\n",
              "  </tbody>\n",
              "</table>\n",
              "</div>"
            ],
            "text/plain": [
              "   weight  height\n",
              "0   0.132   0.757\n",
              "1   0.722   0.888\n",
              "2   0.095   0.804\n",
              "3   0.633   0.530\n",
              "4   0.472   0.701"
            ]
          },
          "metadata": {
            "tags": []
          },
          "execution_count": 26
        }
      ]
    },
    {
      "cell_type": "code",
      "metadata": {
        "colab": {
          "base_uri": "https://localhost:8080/",
          "height": 216
        },
        "id": "oQcP8mYOvMIo",
        "outputId": "499cef13-307c-4dd7-ba03-87ebc7927b86"
      },
      "source": [
        "#import class 2 data set into pandas dataframe\n",
        "class2 = pd.read_csv(\"/content/drive/MyDrive/Neural Networks/Datasets/Class2.txt\")\n",
        "print(class2.shape)\n",
        "class2.head()"
      ],
      "execution_count": 27,
      "outputs": [
        {
          "output_type": "stream",
          "text": [
            "(100, 2)\n"
          ],
          "name": "stdout"
        },
        {
          "output_type": "execute_result",
          "data": {
            "text/html": [
              "<div>\n",
              "<style scoped>\n",
              "    .dataframe tbody tr th:only-of-type {\n",
              "        vertical-align: middle;\n",
              "    }\n",
              "\n",
              "    .dataframe tbody tr th {\n",
              "        vertical-align: top;\n",
              "    }\n",
              "\n",
              "    .dataframe thead th {\n",
              "        text-align: right;\n",
              "    }\n",
              "</style>\n",
              "<table border=\"1\" class=\"dataframe\">\n",
              "  <thead>\n",
              "    <tr style=\"text-align: right;\">\n",
              "      <th></th>\n",
              "      <th>weight</th>\n",
              "      <th>height</th>\n",
              "    </tr>\n",
              "  </thead>\n",
              "  <tbody>\n",
              "    <tr>\n",
              "      <th>0</th>\n",
              "      <td>0.407</td>\n",
              "      <td>0.347</td>\n",
              "    </tr>\n",
              "    <tr>\n",
              "      <th>1</th>\n",
              "      <td>0.726</td>\n",
              "      <td>0.761</td>\n",
              "    </tr>\n",
              "    <tr>\n",
              "      <th>2</th>\n",
              "      <td>0.644</td>\n",
              "      <td>0.415</td>\n",
              "    </tr>\n",
              "    <tr>\n",
              "      <th>3</th>\n",
              "      <td>0.076</td>\n",
              "      <td>0.143</td>\n",
              "    </tr>\n",
              "    <tr>\n",
              "      <th>4</th>\n",
              "      <td>0.110</td>\n",
              "      <td>0.010</td>\n",
              "    </tr>\n",
              "  </tbody>\n",
              "</table>\n",
              "</div>"
            ],
            "text/plain": [
              "   weight  height\n",
              "0   0.407   0.347\n",
              "1   0.726   0.761\n",
              "2   0.644   0.415\n",
              "3   0.076   0.143\n",
              "4   0.110   0.010"
            ]
          },
          "metadata": {
            "tags": []
          },
          "execution_count": 27
        }
      ]
    },
    {
      "cell_type": "code",
      "metadata": {
        "colab": {
          "base_uri": "https://localhost:8080/",
          "height": 216
        },
        "id": "V_oN419xvwii",
        "outputId": "24e6c361-733d-4f4d-8326-099b8b6baa2c"
      },
      "source": [
        "#class labels definition\n",
        "posLabel = 2\n",
        "negLabel = -2\n",
        "\n",
        "#Threshold calculation to distinct both classes \n",
        "T = (posLabel + negLabel) / 2\n",
        "\n",
        "#adding labels to classes in data frames\n",
        "class1.insert(class1.shape[1], 'label', posLabel)\n",
        "class2.insert(class2.shape[1], 'label', negLabel)\n",
        "\n",
        "#combining both classes into one data frame\n",
        "class12 = class1.append(class2)\n",
        "print(class12.shape)\n",
        "class12.head()"
      ],
      "execution_count": 28,
      "outputs": [
        {
          "output_type": "stream",
          "text": [
            "(200, 3)\n"
          ],
          "name": "stdout"
        },
        {
          "output_type": "execute_result",
          "data": {
            "text/html": [
              "<div>\n",
              "<style scoped>\n",
              "    .dataframe tbody tr th:only-of-type {\n",
              "        vertical-align: middle;\n",
              "    }\n",
              "\n",
              "    .dataframe tbody tr th {\n",
              "        vertical-align: top;\n",
              "    }\n",
              "\n",
              "    .dataframe thead th {\n",
              "        text-align: right;\n",
              "    }\n",
              "</style>\n",
              "<table border=\"1\" class=\"dataframe\">\n",
              "  <thead>\n",
              "    <tr style=\"text-align: right;\">\n",
              "      <th></th>\n",
              "      <th>weight</th>\n",
              "      <th>height</th>\n",
              "      <th>label</th>\n",
              "    </tr>\n",
              "  </thead>\n",
              "  <tbody>\n",
              "    <tr>\n",
              "      <th>0</th>\n",
              "      <td>0.132</td>\n",
              "      <td>0.757</td>\n",
              "      <td>2</td>\n",
              "    </tr>\n",
              "    <tr>\n",
              "      <th>1</th>\n",
              "      <td>0.722</td>\n",
              "      <td>0.888</td>\n",
              "      <td>2</td>\n",
              "    </tr>\n",
              "    <tr>\n",
              "      <th>2</th>\n",
              "      <td>0.095</td>\n",
              "      <td>0.804</td>\n",
              "      <td>2</td>\n",
              "    </tr>\n",
              "    <tr>\n",
              "      <th>3</th>\n",
              "      <td>0.633</td>\n",
              "      <td>0.530</td>\n",
              "      <td>2</td>\n",
              "    </tr>\n",
              "    <tr>\n",
              "      <th>4</th>\n",
              "      <td>0.472</td>\n",
              "      <td>0.701</td>\n",
              "      <td>2</td>\n",
              "    </tr>\n",
              "  </tbody>\n",
              "</table>\n",
              "</div>"
            ],
            "text/plain": [
              "   weight  height  label\n",
              "0   0.132   0.757      2\n",
              "1   0.722   0.888      2\n",
              "2   0.095   0.804      2\n",
              "3   0.633   0.530      2\n",
              "4   0.472   0.701      2"
            ]
          },
          "metadata": {
            "tags": []
          },
          "execution_count": 28
        }
      ]
    },
    {
      "cell_type": "code",
      "metadata": {
        "colab": {
          "base_uri": "https://localhost:8080/",
          "height": 295
        },
        "id": "YBzDNjTczVpR",
        "outputId": "7be1cbb2-8384-4e8d-8a93-3812a560ef92"
      },
      "source": [
        "#plottong data samples from both classes\n",
        "colors = [\"green\", \"\", \"\", \"\",\"blue\"]\n",
        "plt.scatter(class12.iloc[:,0], class12.iloc[:,1], color = [colors[idx + 2] for idx in class12.iloc[:,2]])\n",
        "plt.xlabel('x-value')\n",
        "plt.ylabel('y-value')\n",
        "plt.title('Graph of Samples in Dataset')\n",
        "plt.show()"
      ],
      "execution_count": 29,
      "outputs": [
        {
          "output_type": "display_data",
          "data": {
            "image/png": "[encoded data removed]",
            "text/plain": [
              "<Figure size 432x288 with 1 Axes>"
            ]
          },
          "metadata": {
            "tags": [],
            "needs_background": "light"
          }
        }
      ]
    },
    {
      "cell_type": "code",
      "metadata": {
        "colab": {
          "base_uri": "https://localhost:8080/"
        },
        "id": "UMRZo3AP9Mz8",
        "outputId": "a781f552-544e-4799-dccb-ff0a645ef7fd"
      },
      "source": [
        "#shuffling the classes and extracting features and labels from the data set\n",
        "class12_rand = shuffle(class12)\n",
        "features, labels = class12_rand.iloc[:, 0:-1], class12_rand.loc[:,['label']]\n",
        "print(features)\n",
        "print(labels)"
      ],
      "execution_count": 30,
      "outputs": [
        {
          "output_type": "stream",
          "text": [
            "    weight  height\n",
            "95   0.870   0.132\n",
            "10   0.695   0.227\n",
            "47   0.700   0.868\n",
            "60   0.205   0.325\n",
            "12   0.741   0.613\n",
            "..     ...     ...\n",
            "40   0.309   0.358\n",
            "44   0.854   0.903\n",
            "40   0.501   0.901\n",
            "59   0.842   0.102\n",
            "38   0.807   0.960\n",
            "\n",
            "[200 rows x 2 columns]\n",
            "    label\n",
            "95      2\n",
            "10     -2\n",
            "47      2\n",
            "60     -2\n",
            "12     -2\n",
            "..    ...\n",
            "40     -2\n",
            "44     -2\n",
            "40      2\n",
            "59     -2\n",
            "38      2\n",
            "\n",
            "[200 rows x 1 columns]\n"
          ],
          "name": "stdout"
        }
      ]
    },
    {
      "cell_type": "code",
      "metadata": {
        "colab": {
          "base_uri": "https://localhost:8080/"
        },
        "id": "FCjp9DDxC1wR",
        "outputId": "53a15c66-73ff-4133-9970-e331ae8ce014"
      },
      "source": [
        "#splitting data set into 80% training and 20% testing \n",
        "x_train, x_test, y_train, y_test = train_test_split(features, labels, test_size = .2, random_state=42)\n",
        "print(x_train.shape)\n",
        "print(y_train.shape)\n",
        "print(x_test.shape)\n",
        "print(y_test.shape)"
      ],
      "execution_count": 31,
      "outputs": [
        {
          "output_type": "stream",
          "text": [
            "(160, 2)\n",
            "(160, 1)\n",
            "(40, 2)\n",
            "(40, 1)\n"
          ],
          "name": "stdout"
        }
      ]
    },
    {
      "cell_type": "code",
      "metadata": {
        "colab": {
          "base_uri": "https://localhost:8080/"
        },
        "id": "vCuX28WHFn8r",
        "outputId": "11eb4531-eb16-4a10-c029-7883ceee713f"
      },
      "source": [
        "#converting data frame into matrix format for faster arithmetic calculations\n",
        "x_train_m = np.asmatrix(x_train, dtype = 'float64')\n",
        "y_train_m = np.asmatrix(y_train, dtype = 'float64')\n",
        "x_test_m = np.asmatrix(x_test, dtype = 'float64')\n",
        "y_test_m = np.asmatrix(y_test, dtype = 'float64')\n",
        "\n",
        "print(x_train_m.shape)\n",
        "print(y_train_m.shape)\n",
        "print(x_test_m.shape)\n",
        "print(y_test_m.shape)"
      ],
      "execution_count": 32,
      "outputs": [
        {
          "output_type": "stream",
          "text": [
            "(160, 2)\n",
            "(160, 1)\n",
            "(40, 2)\n",
            "(40, 1)\n"
          ],
          "name": "stdout"
        }
      ]
    },
    {
      "cell_type": "code",
      "metadata": {
        "id": "iNoKudGAIGPg"
      },
      "source": [
        "#gradient descent function\n",
        "def GradientDescentLearning(features, labels, max_iter, learning_rate, err_threshold, test_features, test_labels):\n",
        "\n",
        "  #randomly initialize weight values with range: [-0.5,0.5]\n",
        "  w = np.random.rand(features.shape[1]+1)-0.5\n",
        "  totalSquaredErr_ = []\n",
        "  totalSquaredErrTest_ = []\n",
        "  accuracy_= []\n",
        "  epoch = 0\n",
        "  err = 9999.0\n",
        "\n",
        "  while (epoch<max_iter) and (err>err_threshold):\n",
        "    \n",
        "    misclassified = 0\n",
        "    deltaw = [0] * (features.shape[1] + 1)\n",
        "\n",
        "    for i, x in enumerate(features):\n",
        "      x = np.insert(x,0,1)\n",
        "\n",
        "      v = np.dot(w, x.transpose())\n",
        "\n",
        "      diff = learning_rate*(labels[i] - v)\n",
        "      deltaw = deltaw + diff * x\n",
        "\n",
        "    #update weights\n",
        "    #print(deltaw)\n",
        "    w = w + deltaw\n",
        "\n",
        "    # now calculate training error using new weights\n",
        "    this_err=0\n",
        "    for i, x in enumerate(features):\n",
        "      x = np.insert(x,0,1)\n",
        "      v = np.dot(w, x.transpose())\n",
        "      this_err=this_err+(labels[i] - v)*(labels[i] - v)\n",
        "\n",
        "    this_err=np.ndarray.item(this_err)\n",
        "    this_err=this_err/2.0\n",
        "\n",
        "    #mean squared error\n",
        "    err = this_err/features.shape[0]\n",
        "    totalSquaredErr_.append(err)\n",
        "\n",
        "    # now calculate test error using new weights\n",
        "    this_err=0\n",
        "    for i, x in enumerate(test_features):\n",
        "      #inserting bias\n",
        "      x = np.insert(x,0,1)      \n",
        "      #compute local field\n",
        "      v = np.dot(w, x.transpose())\n",
        "      this_err=this_err+(test_labels[i] - v)*(test_labels[i] - v)\n",
        "        \n",
        "    this_err=np.ndarray.item(this_err)\n",
        "    this_err=this_err/2.0\n",
        "    totalSquaredErrTest_.append(this_err/test_features.shape[0])\n",
        "\n",
        "    # now calculate test classification accuracy\n",
        "    this_err=0\n",
        "    for i, x in enumerate(test_features):\n",
        "      x = np.insert(x,0,1)\n",
        "      v = np.dot(w, x.transpose())\n",
        "      if(((v-T)>=0 and test_labels[i]==negLabel) or ((v-T)<0 and test_labels[i]==posLabel)):\n",
        "        this_err=this_err + 1\n",
        "\n",
        "\n",
        "    this_err=float(this_err)\n",
        "    this_err=this_err/test_features.shape[0]\n",
        "    accuracy_.append(1-this_err)\n",
        "\n",
        "    #next epoch\n",
        "    epoch=epoch+1\n",
        "  return (w, totalSquaredErr_, totalSquaredErrTest_, accuracy_)"
      ],
      "execution_count": 33,
      "outputs": []
    },
    {
      "cell_type": "code",
      "metadata": {
        "colab": {
          "base_uri": "https://localhost:8080/"
        },
        "id": "BQvlQKQ7Nl5b",
        "outputId": "e5a4673c-410d-492e-dd1c-d24f8d3f63ae"
      },
      "source": [
        "#variable declaration and initialization\n",
        "max_iter = 2000\n",
        "eta=1.0/x_train.shape[0]\n",
        "err_threshold=0.1\n",
        "print(\"Learning rate is: %.5f\" % eta)\n",
        "\n",
        "w, misclassified, testError, accuracy = GradientDescentLearning(x_train_m, y_train_m, max_iter, eta, err_threshold,\n",
        "                                                                x_test_m, y_test_m)\n",
        "\n",
        "print(misclassified[0:10])\n",
        "print(testError[0:10])\n",
        "print(accuracy[0:10])"
      ],
      "execution_count": 34,
      "outputs": [
        {
          "output_type": "stream",
          "text": [
            "Learning rate is: 0.00625\n",
            "[1.9294914710005018, 1.783107913153005, 1.669503843835228, 1.577487893456413, 1.5017253161985924, 1.438965883942167, 1.3868617531168794, 1.3435674045279984, 1.3075808612308142, 1.2776635449869425]\n",
            "[2.008408881122702, 1.772869188881296, 1.7159938041483336, 1.6007142450515375, 1.539894723383526, 1.4696164103978142, 1.41976461254396, 1.3721587816072849, 1.3342425039734216, 1.3004017748010575]\n",
            "[0.44999999999999996, 0.825, 0.725, 0.925, 0.875, 0.925, 0.925, 0.925, 0.925, 0.925]\n"
          ],
          "name": "stdout"
        }
      ]
    },
    {
      "cell_type": "code",
      "metadata": {
        "colab": {
          "base_uri": "https://localhost:8080/",
          "height": 279
        },
        "id": "62TpAzFqsgcB",
        "outputId": "7a0d6693-8715-4cba-f0e3-e3d041821174"
      },
      "source": [
        "#plotting of training and test error\n",
        "epochs = np.arange(1, max_iter + 1)\n",
        "plt.plot(epochs, misclassified)\n",
        "plt.plot(epochs, testError)\n",
        "plt.xlabel('Iterations')\n",
        "plt.ylabel('Misclassified')\n",
        "plt.show()"
      ],
      "execution_count": 35,
      "outputs": [
        {
          "output_type": "display_data",
          "data": {
            "image/png": "[encoded data removed]",
            "text/plain": [
              "<Figure size 432x288 with 1 Axes>"
            ]
          },
          "metadata": {
            "tags": [],
            "needs_background": "light"
          }
        }
      ]
    },
    {
      "cell_type": "code",
      "metadata": {
        "colab": {
          "base_uri": "https://localhost:8080/",
          "height": 319
        },
        "id": "xoaFOCJ7uVRM",
        "outputId": "0d190651-c9a5-4430-e1b2-9f373b131e26"
      },
      "source": [
        "#calculating slope and intercept of decision surface\n",
        "slope = w[0, 1]/w[0,2]*(-1)\n",
        "intercept = (T-w[0,0]/w[0,2])\n",
        "\n",
        "#Printing weights, slope, and intercept\n",
        "print(w)\n",
        "print(slope, intercept)\n",
        "\n",
        "#printing scatter plot and decision surface line\n",
        "colors = [\"green\", \"\", \"\", \"\",\"blue\"]\n",
        "xvalues=class12.iloc[:,0]\n",
        "yvalues=xvalues * slope + intercept\n",
        "plt.scatter(class12.iloc[:,0],class12.iloc[:,1],color=[colors[idx+2] for idx in class12.iloc[:,2]])\n",
        "plt.plot(xvalues,yvalues,\"r-\")"
      ],
      "execution_count": 36,
      "outputs": [
        {
          "output_type": "stream",
          "text": [
            "[[-0.16145649 -3.2517028   3.03286321]]\n",
            "1.0721561026648667 0.053235665047821214\n"
          ],
          "name": "stdout"
        },
        {
          "output_type": "execute_result",
          "data": {
            "text/plain": [
              "[<matplotlib.lines.Line2D at 0x7fa78c6ab4d0>]"
            ]
          },
          "metadata": {
            "tags": []
          },
          "execution_count": 36
        },
        {
          "output_type": "display_data",
          "data": {
            "image/png": "[encoded data removed]",
            "text/plain": [
              "<Figure size 432x288 with 1 Axes>"
            ]
          },
          "metadata": {
            "tags": [],
            "needs_background": "light"
          }
        }
      ]
    },
    {
      "cell_type": "code",
      "metadata": {
        "id": "1KVtTXEcwk17"
      },
      "source": [
        "import random\n",
        "def Delta(features, labels, max_iter, learning_rate, err_threshold):\n",
        "\n",
        "  # random initialize weight values between rage: [-0.5,0.5]\n",
        "  w = np.random.rand(features.shape[1]+1)-0.5\n",
        "\n",
        "  totalSquaredErr_ = []\n",
        "  epoch=0\n",
        "  err=9999.0\n",
        "\n",
        "  while (epoch<max_iter) and (err>err_threshold):\n",
        "    misclassified = 0\n",
        "    deltaw=[0]*(features.shape[1]+1)\n",
        "    # random select an instance\n",
        "    i=random.randrange(features.shape[0])\n",
        "\n",
        "    x=features[i,]\n",
        "    x = np.insert(x,0,1)\n",
        "\n",
        "    v = np.dot(w, x.transpose())\n",
        "\n",
        "    diff = learning_rate * (labels[i] - v)\n",
        "    deltaw = deltaw + diff * x\n",
        "\n",
        "    #update weights\n",
        "    #print(deltaw)\n",
        "    w=w+deltaw\n",
        "\n",
        "    # now calculate error using new weights\n",
        "    this_err=0\n",
        "    for i, x in enumerate(features):\n",
        "      x = np.insert(x,0,1)\n",
        "      v = np.dot(w, x.transpose())\n",
        "      this_err=this_err+(labels[i] - v)*(labels[i] - v)\n",
        "\n",
        "    this_err=np.asscalar(this_err)\n",
        "    this_err=this_err/2.0\n",
        "    totalSquaredErr_.append(this_err)\n",
        "    \n",
        "    #mean squared error\n",
        "    err=this_err/features.shape[0]\n",
        "    epoch=epoch+1\n",
        "  return (w, totalSquaredErr_)"
      ],
      "execution_count": 37,
      "outputs": []
    },
    {
      "cell_type": "code",
      "metadata": {
        "colab": {
          "base_uri": "https://localhost:8080/"
        },
        "id": "wq6uRLZayBXc",
        "outputId": "e12382cb-dda2-48f7-89f5-6aacc5acd72a"
      },
      "source": [
        "#variable declaration and initialization\n",
        "max_iter = 2000\n",
        "#eta=1.0/x_train.shape[0]\n",
        "eta = 0.01\n",
        "err_threshold=0.1\n",
        "print(\"Learning rate is: %.5f\" % eta)\n",
        "\n",
        "w, misclassified = Delta(x_train_m, y_train_m, max_iter, eta, err_threshold)                     \n",
        "\n",
        "print(misclassified[0:10])"
      ],
      "execution_count": 38,
      "outputs": [
        {
          "output_type": "stream",
          "text": [
            "Learning rate is: 0.01000\n"
          ],
          "name": "stdout"
        },
        {
          "output_type": "stream",
          "text": [
            "/usr/local/lib/python3.7/dist-packages/ipykernel_launcher.py:36: DeprecationWarning: np.asscalar(a) is deprecated since NumPy v1.16, use a.item() instead\n"
          ],
          "name": "stderr"
        },
        {
          "output_type": "stream",
          "text": [
            "[354.4468276266348, 353.22254376168814, 352.1326347698061, 352.6268912782509, 351.6069900370395, 350.8234776599437, 350.0971375026386, 348.84431235323825, 348.8895114822119, 348.46442664654916]\n"
          ],
          "name": "stdout"
        }
      ]
    },
    {
      "cell_type": "code",
      "metadata": {
        "colab": {
          "base_uri": "https://localhost:8080/",
          "height": 297
        },
        "id": "43_tEneMy_pz",
        "outputId": "390f0d29-50ce-4831-8fce-5919686d0a7d"
      },
      "source": [
        "#plotting square error\n",
        "epochs = np.arange(1, max_iter + 1)\n",
        "plt.plot(epochs, misclassified)\n",
        "plt.xlabel('Iterations')\n",
        "plt.ylabel('Squared Errors')\n",
        "plt.show"
      ],
      "execution_count": 39,
      "outputs": [
        {
          "output_type": "execute_result",
          "data": {
            "text/plain": [
              "<function matplotlib.pyplot.show>"
            ]
          },
          "metadata": {
            "tags": []
          },
          "execution_count": 39
        },
        {
          "output_type": "display_data",
          "data": {
            "image/png": "[encoded data removed]",
            "text/plain": [
              "<Figure size 432x288 with 1 Axes>"
            ]
          },
          "metadata": {
            "tags": [],
            "needs_background": "light"
          }
        }
      ]
    },
    {
      "cell_type": "markdown",
      "metadata": {
        "id": "SYVL6EgVzwmf"
      },
      "source": [
        "The similarity between the Delta rule function and the Gradient descent learning rule is that both of the algorithms utilize the same mathematical computations in order to update the weights of the neuron. Nevertheless, the Delta rule function only takes one random sample from the data set at a time to apply the algorithms to update the weights. On the other hand, the gradient descent groups a batch of samples and calculate their change in weights individually. Then, it adds the weights together to create the change in weight that needs to be added to the old weights. Some of the advantages of stochastic gradient descent includes that it is fast to calculate since one sample is processed each time. Also, its stochastic approach to updating the weights while searching for the global minima, helps the model avoid, skip, or get out of local minima. On the other hand, some of the disadvantages of stochastic gradient descent include noisy steps since it updates the weights constantly, causing the gradient descent to take longer to find the local minima. Also, the noisy steps could lead the gradient descent into undesirable directions making it harder and longer to find the global minima. On the other side of the spectrum, some of the advantages include less noisy steps towards the global minima. Moreover, it can use vectorization to process the computational speed of computations. Nevertheless, one of the biggest disadvantages from gradient descent is that if the gradient leads to the local minima of the plane, then the model would not be able to get out the local minima to reach the global minima. Additionally, if the batch of samples is too large, then the model will take longer an use more resources in order to obtain the decision surface line.\n",
        "#Answer Question 12"
      ]
    },
    {
      "cell_type": "code",
      "metadata": {
        "colab": {
          "base_uri": "https://localhost:8080/",
          "height": 216
        },
        "id": "b9jXZ2gz9H6b",
        "outputId": "529052f7-84cc-4d97-912a-3d91742f2ab3"
      },
      "source": [
        "#import review100 data set into pandas dataframe\n",
        "df = pd.read_csv(\"/content/drive/MyDrive/Neural Networks/Datasets/review100.csv\")\n",
        "print(df.shape)\n",
        "df.head()"
      ],
      "execution_count": 40,
      "outputs": [
        {
          "output_type": "stream",
          "text": [
            "(100, 2)\n"
          ],
          "name": "stdout"
        },
        {
          "output_type": "execute_result",
          "data": {
            "text/html": [
              "<div>\n",
              "<style scoped>\n",
              "    .dataframe tbody tr th:only-of-type {\n",
              "        vertical-align: middle;\n",
              "    }\n",
              "\n",
              "    .dataframe tbody tr th {\n",
              "        vertical-align: top;\n",
              "    }\n",
              "\n",
              "    .dataframe thead th {\n",
              "        text-align: right;\n",
              "    }\n",
              "</style>\n",
              "<table border=\"1\" class=\"dataframe\">\n",
              "  <thead>\n",
              "    <tr style=\"text-align: right;\">\n",
              "      <th></th>\n",
              "      <th>movie review</th>\n",
              "      <th>sentiment</th>\n",
              "    </tr>\n",
              "  </thead>\n",
              "  <tbody>\n",
              "    <tr>\n",
              "      <th>0</th>\n",
              "      <td>One of the other reviewers has mentioned that ...</td>\n",
              "      <td>positive</td>\n",
              "    </tr>\n",
              "    <tr>\n",
              "      <th>1</th>\n",
              "      <td>A wonderful little production. &lt;br /&gt;&lt;br /&gt;The...</td>\n",
              "      <td>positive</td>\n",
              "    </tr>\n",
              "    <tr>\n",
              "      <th>2</th>\n",
              "      <td>I thought this was a wonderful way to spend ti...</td>\n",
              "      <td>positive</td>\n",
              "    </tr>\n",
              "    <tr>\n",
              "      <th>3</th>\n",
              "      <td>Basically there's a family where a little boy ...</td>\n",
              "      <td>negative</td>\n",
              "    </tr>\n",
              "    <tr>\n",
              "      <th>4</th>\n",
              "      <td>Petter Mattei's \"Love in the Time of Money\" is...</td>\n",
              "      <td>positive</td>\n",
              "    </tr>\n",
              "  </tbody>\n",
              "</table>\n",
              "</div>"
            ],
            "text/plain": [
              "                                        movie review sentiment\n",
              "0  One of the other reviewers has mentioned that ...  positive\n",
              "1  A wonderful little production. <br /><br />The...  positive\n",
              "2  I thought this was a wonderful way to spend ti...  positive\n",
              "3  Basically there's a family where a little boy ...  negative\n",
              "4  Petter Mattei's \"Love in the Time of Money\" is...  positive"
            ]
          },
          "metadata": {
            "tags": []
          },
          "execution_count": 40
        }
      ]
    },
    {
      "cell_type": "code",
      "metadata": {
        "colab": {
          "base_uri": "https://localhost:8080/"
        },
        "id": "EKyEA5Jg_OJH",
        "outputId": "4a64b514-b73c-415c-fef4-b1589b9c45e6"
      },
      "source": [
        "#tokenizing the words and adding it to list\n",
        "import nltk\n",
        "nltk.download('punkt')\n",
        "#from nltk.tokenize import word_tokenize\n",
        "from nltk.tokenize import SpaceTokenizer\n",
        "\n",
        "words = []\n",
        "tk = SpaceTokenizer()\n",
        "\n",
        "for i in range(0,df.shape[0]):\n",
        "  words.append(tk.tokenize(df.loc[i][0]))\n",
        "\n",
        "#for i in range(0, df.shape[0]):\n",
        "  #words.append(word_tokenize(str(df.loc[i]))) \n",
        "  \n",
        "print(len(words))\n",
        "#print(words)"
      ],
      "execution_count": 41,
      "outputs": [
        {
          "output_type": "stream",
          "text": [
            "[nltk_data] Downloading package punkt to /root/nltk_data...\n",
            "[nltk_data]   Unzipping tokenizers/punkt.zip.\n",
            "100\n"
          ],
          "name": "stdout"
        }
      ]
    },
    {
      "cell_type": "code",
      "metadata": {
        "id": "3irV0N6dquus"
      },
      "source": [
        "#filtering words list to new list with unrepeated words\n",
        "wordList = []\n",
        "wordCount = []\n",
        "\n",
        "#loops for 100 times\n",
        "for i in range(0, len(words)):\n",
        "  \n",
        "  #loops number of words in each review\n",
        "  for j in range(0, len(words[i])):\n",
        "\n",
        "    inList = 0\n",
        "\n",
        "    #checking word list with current\n",
        "    for k in range(0, len(wordList)):\n",
        "\n",
        "      #condition that checks if word is in the list\n",
        "      if str(wordList[k]) == str(words[i][j]):\n",
        "        wordCount[k] += 1\n",
        "        inlist = 1\n",
        "\n",
        "    #condition that appends word to list if not found\n",
        "    if inList == 0:\n",
        "      wordList.append(words[i][j])\n",
        "      wordCount.append(1)\n",
        "\n",
        "\n",
        "#print(wordList)\n",
        "#print(len(wordList))\n",
        "#print(wordCount)\n",
        "#print(len(wordCount))"
      ],
      "execution_count": 42,
      "outputs": []
    },
    {
      "cell_type": "code",
      "metadata": {
        "colab": {
          "base_uri": "https://localhost:8080/"
        },
        "id": "XZmpLbWLF-v2",
        "outputId": "15e9b3bf-46a6-453e-98e4-74e3e699dfc4"
      },
      "source": [
        "#creating data frame an sorting top 1000 most used words\n",
        "updatedList = list(zip(wordList, wordCount))\n",
        "\n",
        "updatedDF = pd.DataFrame(updatedList, columns=['word','w-count'])\n",
        "sortedDF = updatedDF.sort_values(by='w-count', ascending=False)\n",
        "\n",
        "sortedDF = sortedDF.iloc[0:1000]\n",
        "\n",
        "#print(sortedDF)\n",
        "print(sortedDF.shape)"
      ],
      "execution_count": 43,
      "outputs": [
        {
          "output_type": "stream",
          "text": [
            "(1000, 2)\n"
          ],
          "name": "stdout"
        }
      ]
    },
    {
      "cell_type": "code",
      "metadata": {
        "colab": {
          "base_uri": "https://localhost:8080/"
        },
        "id": "GRhCmNk1PjUo",
        "outputId": "139ca4d3-1b15-49c3-8549-41f5e006e947"
      },
      "source": [
        "#representing words as instances with values\n",
        "\n",
        "wordFeatures = []\n",
        "\n",
        "for i in range(0, sortedDF.shape[0]):\n",
        "  wordFeatures.append(sortedDF.iloc[i][0])\n",
        "\n",
        "#print(wordFeatures)\n",
        "print(len(wordFeatures))"
      ],
      "execution_count": 44,
      "outputs": [
        {
          "output_type": "stream",
          "text": [
            "1000\n"
          ],
          "name": "stdout"
        }
      ]
    }
  ]
}